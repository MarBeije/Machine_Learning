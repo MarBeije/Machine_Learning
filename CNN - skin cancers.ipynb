{
 "cells": [
  {
   "cell_type": "code",
   "execution_count": 22,
   "metadata": {},
   "outputs": [],
   "source": [
    "import numpy as np\n",
    "import os\n",
    "import cv2\n",
    "import matplotlib.pyplot as plt\n",
    "import tensorflow as tf \n",
    "\n",
    "from tqdm import tqdm\n",
    "from random import shuffle \n",
    "from sklearn.datasets import load_files\n",
    "from tensorflow.keras.models import Sequential\n",
    "from tensorflow.keras.layers import Dense, Dropout, Activation, Flatten\n",
    "from tensorflow.keras.layers import Conv2D, MaxPooling2D, SimpleRNN\n",
    "\n",
    "#import tflearn\n",
    "#from tflearn.layers.conv import conv_2d, max_pool_2d\n",
    "#from tflearn.layers.core import input_data, dropout, fully_connected\n",
    "#from tflearn.layers.estimator import regression"
   ]
  },
  {
   "cell_type": "code",
   "execution_count": 23,
   "metadata": {},
   "outputs": [],
   "source": [
    "TRAIN_DIR = \"SkinData/train\"\n",
    "TEST_DIR = \"SkinData/test\"\n",
    "CATEGORIES = [\"benign\",\"malignant\"]\n",
    "\n",
    "IMG_SIZE = 50\n",
    "LR = 1e-3 \n",
    "MODEL_NAME = \"malignant_benign\""
   ]
  },
  {
   "cell_type": "code",
   "execution_count": 24,
   "metadata": {},
   "outputs": [
    {
     "name": "stdout",
     "output_type": "stream",
     "text": [
      "benign 0\n",
      "malignant 1\n"
     ]
    }
   ],
   "source": [
    "def labels():\n",
    "    for category in CATEGORIES:\n",
    "        num = CATEGORIES.index(category)\n",
    "        print(category, num)\n",
    "        \n",
    "labels()"
   ]
  },
  {
   "cell_type": "code",
   "execution_count": 25,
   "metadata": {},
   "outputs": [],
   "source": [
    "def create_training_data():\n",
    "    training_data = []\n",
    "    for category in CATEGORIES:  \n",
    "        path = os.path.join(TRAIN_DIR,category)  # create path to benign and malignant\n",
    "        class_num = CATEGORIES.index(category)    \n",
    "        \n",
    "        for img in tqdm(os.listdir(path)):  # iterate over each image per category\n",
    "            img_array = cv2.imread(os.path.join(path, img), cv2.IMREAD_GRAYSCALE)  # convert to array\n",
    "            new_array = cv2.resize(img_array, (IMG_SIZE,IMG_SIZE))\n",
    "            training_data.append([np.array(new_array), class_num])\n",
    "        \n",
    "    shuffle(training_data)\n",
    "    np.save('train_data.npy', training_data)\n",
    "    \n",
    "    return training_data"
   ]
  },
  {
   "cell_type": "code",
   "execution_count": 26,
   "metadata": {},
   "outputs": [
    {
     "name": "stderr",
     "output_type": "stream",
     "text": [
      "100%|██████████████████████████████████████████████████████████████████████████████████████████████████████████████████████████████| 1440/1440 [00:21<00:00, 66.95it/s]\n",
      "100%|██████████████████████████████████████████████████████████████████████████████████████████████████████████████████████████████| 1197/1197 [00:19<00:00, 61.08it/s]\n"
     ]
    },
    {
     "name": "stdout",
     "output_type": "stream",
     "text": [
      "2637\n"
     ]
    }
   ],
   "source": [
    "#train_data = create_training_data()\n",
    "train_data = np.load('train_data.npy')\n",
    "print(len(train_data))"
   ]
  },
  {
   "cell_type": "code",
   "execution_count": 28,
   "metadata": {},
   "outputs": [],
   "source": [
    "X = []\n",
    "Y = []\n",
    "\n",
    "for features, label in train_data:\n",
    "    X.append(features)\n",
    "    Y.append(label)\n",
    "    \n",
    "X_train = np.array(X).reshape(-1, IMG_SIZE, IMG_SIZE, 1)\n",
    "Y_train = np.array(Y)"
   ]
  },
  {
   "cell_type": "code",
   "execution_count": 45,
   "metadata": {},
   "outputs": [],
   "source": [
    "np.save('features.npy',X) #saving\n",
    "np.save('label.npy',Y) #saving\n",
    "X=np.load('label.npy')#loading\n",
    "Y=np.load('features.npy')#loading"
   ]
  },
  {
   "cell_type": "code",
   "execution_count": 46,
   "metadata": {},
   "outputs": [],
   "source": [
    "X=X/255"
   ]
  },
  {
   "cell_type": "code",
   "execution_count": 54,
   "metadata": {
    "scrolled": true
   },
   "outputs": [
    {
     "name": "stdout",
     "output_type": "stream",
     "text": [
      "Model: \"sequential_10\"\n",
      "_________________________________________________________________\n",
      "Layer (type)                 Output Shape              Param #   \n",
      "=================================================================\n",
      "conv2d_7 (Conv2D)            (None, 16, 16, 32)        320       \n",
      "_________________________________________________________________\n",
      "max_pooling2d_4 (MaxPooling2 (None, 8, 8, 32)          0         \n",
      "_________________________________________________________________\n",
      "conv2d_8 (Conv2D)            (None, 6, 6, 64)          18496     \n",
      "_________________________________________________________________\n",
      "max_pooling2d_5 (MaxPooling2 (None, 3, 3, 64)          0         \n",
      "_________________________________________________________________\n",
      "conv2d_9 (Conv2D)            (None, 1, 1, 64)          36928     \n",
      "_________________________________________________________________\n",
      "flatten_2 (Flatten)          (None, 64)                0         \n",
      "_________________________________________________________________\n",
      "dense_4 (Dense)              (None, 64)                4160      \n",
      "_________________________________________________________________\n",
      "dense_5 (Dense)              (None, 1)                 65        \n",
      "=================================================================\n",
      "Total params: 59,969\n",
      "Trainable params: 59,969\n",
      "Non-trainable params: 0\n",
      "_________________________________________________________________\n"
     ]
    }
   ],
   "source": [
    "model = Sequential()\n",
    "\n",
    "model.add(Conv2D(32, 3, 3, activation='relu', input_shape=(50,50,1)))\n",
    "model.add(MaxPooling2D(pool_size=(2, 2)))\n",
    "\n",
    "model.add(Conv2D(64, (3, 3), activation='relu'))\n",
    "model.add(MaxPooling2D(pool_size=(2, 2)))\n",
    "\n",
    "model.add(Conv2D(64, (3,3), activation='relu'))\n",
    "\n",
    "model.add(Flatten())  # this converts our 3D feature maps to 1D feature vectors\n",
    "\n",
    "model.add(Dense(64, activation='relu'))\n",
    "model.add(Dense(1))\n",
    "\n",
    "model.summary()"
   ]
  },
  {
   "cell_type": "code",
   "execution_count": 55,
   "metadata": {},
   "outputs": [],
   "source": [
    "model.compile(loss='binary_crossentropy',\n",
    "              optimizer='adam',\n",
    "              metrics=['accuracy'])"
   ]
  },
  {
   "cell_type": "code",
   "execution_count": 58,
   "metadata": {
    "scrolled": true
   },
   "outputs": [
    {
     "name": "stdout",
     "output_type": "stream",
     "text": [
      "Train on 1845 samples, validate on 792 samples\n",
      "Epoch 1/10\n",
      "1845/1845 [==============================] - ETA: 2s - loss: 3.8562 - accuracy: 0.75 - ETA: 1s - loss: 5.3023 - accuracy: 0.65 - ETA: 1s - loss: 5.8808 - accuracy: 0.61 - ETA: 1s - loss: 6.5418 - accuracy: 0.57 - ETA: 1s - loss: 6.4271 - accuracy: 0.58 - ETA: 1s - loss: 6.7046 - accuracy: 0.56 - ETA: 1s - loss: 6.7855 - accuracy: 0.56 - ETA: 1s - loss: 6.8448 - accuracy: 0.55 - ETA: 1s - loss: 7.0320 - accuracy: 0.54 - ETA: 1s - loss: 7.1290 - accuracy: 0.53 - ETA: 1s - loss: 7.2534 - accuracy: 0.52 - ETA: 1s - loss: 7.2095 - accuracy: 0.53 - ETA: 1s - loss: 7.1340 - accuracy: 0.53 - ETA: 1s - loss: 7.1377 - accuracy: 0.53 - ETA: 1s - loss: 7.1616 - accuracy: 0.53 - ETA: 1s - loss: 7.3136 - accuracy: 0.52 - ETA: 0s - loss: 7.2926 - accuracy: 0.52 - ETA: 0s - loss: 7.2597 - accuracy: 0.52 - ETA: 0s - loss: 7.2855 - accuracy: 0.52 - ETA: 0s - loss: 7.2174 - accuracy: 0.53 - ETA: 0s - loss: 7.1810 - accuracy: 0.53 - ETA: 0s - loss: 7.1364 - accuracy: 0.53 - ETA: 0s - loss: 7.1183 - accuracy: 0.53 - ETA: 0s - loss: 7.1209 - accuracy: 0.53 - ETA: 0s - loss: 7.0942 - accuracy: 0.54 - ETA: 0s - loss: 7.1200 - accuracy: 0.53 - ETA: 0s - loss: 7.0473 - accuracy: 0.54 - ETA: 0s - loss: 7.0636 - accuracy: 0.54 - ETA: 0s - loss: 7.0576 - accuracy: 0.54 - ETA: 0s - loss: 7.0815 - accuracy: 0.54 - ETA: 0s - loss: 7.1036 - accuracy: 0.53 - 2s 1ms/sample - loss: 7.1231 - accuracy: 0.5382 - val_loss: 6.7192 - val_accuracy: 0.5644\n",
      "Epoch 2/10\n",
      "1845/1845 [==============================] - ETA: 2s - loss: 6.7484 - accuracy: 0.56 - ETA: 2s - loss: 7.3911 - accuracy: 0.52 - ETA: 2s - loss: 7.0376 - accuracy: 0.54 - ETA: 1s - loss: 7.0239 - accuracy: 0.54 - ETA: 1s - loss: 7.0162 - accuracy: 0.54 - ETA: 1s - loss: 7.1428 - accuracy: 0.53 - ETA: 1s - loss: 7.4158 - accuracy: 0.51 - ETA: 1s - loss: 7.3590 - accuracy: 0.52 - ETA: 1s - loss: 7.2872 - accuracy: 0.52 - ETA: 1s - loss: 7.1036 - accuracy: 0.53 - ETA: 1s - loss: 7.0239 - accuracy: 0.54 - ETA: 1s - loss: 7.0209 - accuracy: 0.54 - ETA: 1s - loss: 7.0569 - accuracy: 0.54 - ETA: 1s - loss: 6.9627 - accuracy: 0.54 - ETA: 0s - loss: 6.9977 - accuracy: 0.54 - ETA: 0s - loss: 6.9195 - accuracy: 0.55 - ETA: 0s - loss: 7.0406 - accuracy: 0.54 - ETA: 0s - loss: 7.0376 - accuracy: 0.54 - ETA: 0s - loss: 7.1262 - accuracy: 0.53 - ETA: 0s - loss: 7.1439 - accuracy: 0.53 - ETA: 0s - loss: 7.1952 - accuracy: 0.53 - ETA: 0s - loss: 7.1856 - accuracy: 0.53 - ETA: 0s - loss: 7.1769 - accuracy: 0.53 - ETA: 0s - loss: 7.1990 - accuracy: 0.53 - ETA: 0s - loss: 7.2099 - accuracy: 0.53 - ETA: 0s - loss: 7.2009 - accuracy: 0.53 - ETA: 0s - loss: 7.2115 - accuracy: 0.53 - ETA: 0s - loss: 7.2123 - accuracy: 0.53 - ETA: 0s - loss: 7.1691 - accuracy: 0.53 - ETA: 0s - loss: 7.1290 - accuracy: 0.53 - 2s 1ms/sample - loss: 7.1231 - accuracy: 0.5382 - val_loss: 6.7192 - val_accuracy: 0.5644\n",
      "Epoch 3/10\n",
      "1845/1845 [==============================] - ETA: 2s - loss: 10.1226 - accuracy: 0.343 - ETA: 2s - loss: 7.7125 - accuracy: 0.500 - ETA: 2s - loss: 7.1340 - accuracy: 0.53 - ETA: 2s - loss: 7.6436 - accuracy: 0.50 - ETA: 1s - loss: 7.6054 - accuracy: 0.50 - ETA: 1s - loss: 7.8001 - accuracy: 0.49 - ETA: 1s - loss: 7.7496 - accuracy: 0.49 - ETA: 1s - loss: 7.5403 - accuracy: 0.51 - ETA: 1s - loss: 7.2606 - accuracy: 0.52 - ETA: 1s - loss: 7.2037 - accuracy: 0.53 - ETA: 1s - loss: 7.1036 - accuracy: 0.53 - ETA: 1s - loss: 7.0698 - accuracy: 0.54 - ETA: 1s - loss: 7.0837 - accuracy: 0.54 - ETA: 1s - loss: 7.0376 - accuracy: 0.54 - ETA: 1s - loss: 6.9448 - accuracy: 0.54 - ETA: 1s - loss: 6.9811 - accuracy: 0.54 - ETA: 1s - loss: 7.0128 - accuracy: 0.54 - ETA: 0s - loss: 6.9383 - accuracy: 0.55 - ETA: 0s - loss: 6.9825 - accuracy: 0.54 - ETA: 0s - loss: 7.0741 - accuracy: 0.54 - ETA: 0s - loss: 7.1192 - accuracy: 0.53 - ETA: 0s - loss: 7.0497 - accuracy: 0.54 - ETA: 0s - loss: 7.0353 - accuracy: 0.54 - ETA: 0s - loss: 7.0399 - accuracy: 0.54 - ETA: 0s - loss: 7.0990 - accuracy: 0.53 - ETA: 0s - loss: 7.0805 - accuracy: 0.54 - ETA: 0s - loss: 7.0523 - accuracy: 0.54 - ETA: 0s - loss: 7.0663 - accuracy: 0.54 - ETA: 0s - loss: 7.0597 - accuracy: 0.54 - ETA: 0s - loss: 7.0280 - accuracy: 0.54 - ETA: 0s - loss: 7.0358 - accuracy: 0.54 - ETA: 0s - loss: 7.0698 - accuracy: 0.54 - ETA: 0s - loss: 7.0841 - accuracy: 0.54 - ETA: 0s - loss: 7.1205 - accuracy: 0.53 - 3s 2ms/sample - loss: 7.1231 - accuracy: 0.5382 - val_loss: 6.7192 - val_accuracy: 0.5644\n",
      "Epoch 4/10\n",
      "1845/1845 [==============================] - ETA: 1s - loss: 9.1586 - accuracy: 0.40 - ETA: 2s - loss: 7.5518 - accuracy: 0.51 - ETA: 1s - loss: 6.9412 - accuracy: 0.55 - ETA: 2s - loss: 6.6681 - accuracy: 0.56 - ETA: 1s - loss: 6.9292 - accuracy: 0.55 - ETA: 1s - loss: 6.8930 - accuracy: 0.55 - ETA: 1s - loss: 6.8288 - accuracy: 0.55 - ETA: 1s - loss: 6.8173 - accuracy: 0.55 - ETA: 1s - loss: 6.9292 - accuracy: 0.55 - ETA: 1s - loss: 7.0698 - accuracy: 0.54 - ETA: 1s - loss: 7.0617 - accuracy: 0.54 - ETA: 1s - loss: 7.0333 - accuracy: 0.54 - ETA: 1s - loss: 7.0418 - accuracy: 0.54 - ETA: 1s - loss: 7.0095 - accuracy: 0.54 - ETA: 1s - loss: 7.1007 - accuracy: 0.53 - ETA: 1s - loss: 7.1769 - accuracy: 0.53 - ETA: 1s - loss: 7.1960 - accuracy: 0.53 - ETA: 1s - loss: 7.2144 - accuracy: 0.53 - ETA: 1s - loss: 7.2455 - accuracy: 0.53 - ETA: 0s - loss: 7.3297 - accuracy: 0.52 - ETA: 0s - loss: 7.3406 - accuracy: 0.52 - ETA: 0s - loss: 7.2974 - accuracy: 0.52 - ETA: 0s - loss: 7.2431 - accuracy: 0.53 - ETA: 0s - loss: 7.3389 - accuracy: 0.52 - ETA: 0s - loss: 7.2892 - accuracy: 0.52 - ETA: 0s - loss: 7.2192 - accuracy: 0.53 - ETA: 0s - loss: 7.1983 - accuracy: 0.53 - ETA: 0s - loss: 7.1894 - accuracy: 0.53 - ETA: 0s - loss: 7.1601 - accuracy: 0.53 - ETA: 0s - loss: 7.1244 - accuracy: 0.53 - ETA: 0s - loss: 7.1192 - accuracy: 0.53 - ETA: 0s - loss: 7.1769 - accuracy: 0.53 - ETA: 0s - loss: 7.1616 - accuracy: 0.53 - 3s 1ms/sample - loss: 7.1231 - accuracy: 0.5382 - val_loss: 6.7192 - val_accuracy: 0.5644\n",
      "Epoch 5/10\n",
      "1845/1845 [==============================] - ETA: 2s - loss: 5.7844 - accuracy: 0.62 - ETA: 1s - loss: 6.5877 - accuracy: 0.57 - ETA: 2s - loss: 6.2664 - accuracy: 0.59 - ETA: 2s - loss: 6.4271 - accuracy: 0.58 - ETA: 1s - loss: 6.9894 - accuracy: 0.54 - ETA: 1s - loss: 6.9412 - accuracy: 0.55 - ETA: 1s - loss: 6.9675 - accuracy: 0.54 - ETA: 1s - loss: 7.1192 - accuracy: 0.53 - ETA: 1s - loss: 7.2649 - accuracy: 0.52 - ETA: 1s - loss: 7.2907 - accuracy: 0.52 - ETA: 1s - loss: 7.2037 - accuracy: 0.53 - ETA: 1s - loss: 7.2304 - accuracy: 0.53 - ETA: 1s - loss: 7.1428 - accuracy: 0.53 - ETA: 1s - loss: 7.2095 - accuracy: 0.53 - ETA: 1s - loss: 7.2304 - accuracy: 0.53 - ETA: 1s - loss: 7.2126 - accuracy: 0.53 - ETA: 1s - loss: 7.1788 - accuracy: 0.53 - ETA: 1s - loss: 7.1340 - accuracy: 0.53 - ETA: 0s - loss: 7.1401 - accuracy: 0.53 - ETA: 0s - loss: 7.1737 - accuracy: 0.53 - ETA: 0s - loss: 7.0296 - accuracy: 0.54 - ETA: 0s - loss: 7.0021 - accuracy: 0.54 - ETA: 0s - loss: 6.9774 - accuracy: 0.54 - ETA: 0s - loss: 7.0698 - accuracy: 0.54 - ETA: 0s - loss: 7.1099 - accuracy: 0.53 - ETA: 0s - loss: 7.1047 - accuracy: 0.53 - ETA: 0s - loss: 7.1099 - accuracy: 0.53 - ETA: 0s - loss: 7.0955 - accuracy: 0.54 - ETA: 0s - loss: 7.1076 - accuracy: 0.53 - ETA: 0s - loss: 7.1031 - accuracy: 0.53 - ETA: 0s - loss: 7.1340 - accuracy: 0.53 - ETA: 0s - loss: 7.1358 - accuracy: 0.53 - 2s 1ms/sample - loss: 7.1231 - accuracy: 0.5382 - val_loss: 6.7192 - val_accuracy: 0.5644\n",
      "Epoch 6/10\n"
     ]
    },
    {
     "name": "stdout",
     "output_type": "stream",
     "text": [
      "1845/1845 [==============================] - ETA: 2s - loss: 5.3023 - accuracy: 0.65 - ETA: 2s - loss: 6.1057 - accuracy: 0.60 - ETA: 2s - loss: 6.7484 - accuracy: 0.56 - ETA: 1s - loss: 6.4730 - accuracy: 0.58 - ETA: 1s - loss: 6.5342 - accuracy: 0.57 - ETA: 1s - loss: 6.4855 - accuracy: 0.57 - ETA: 1s - loss: 6.6001 - accuracy: 0.57 - ETA: 1s - loss: 6.8127 - accuracy: 0.55 - ETA: 1s - loss: 6.8902 - accuracy: 0.55 - ETA: 1s - loss: 7.1036 - accuracy: 0.53 - ETA: 1s - loss: 7.0698 - accuracy: 0.54 - ETA: 1s - loss: 7.0628 - accuracy: 0.54 - ETA: 1s - loss: 7.1340 - accuracy: 0.53 - ETA: 1s - loss: 7.1412 - accuracy: 0.53 - ETA: 1s - loss: 7.1640 - accuracy: 0.53 - ETA: 0s - loss: 7.1060 - accuracy: 0.53 - ETA: 0s - loss: 7.1866 - accuracy: 0.53 - ETA: 0s - loss: 7.2167 - accuracy: 0.53 - ETA: 0s - loss: 7.1262 - accuracy: 0.53 - ETA: 0s - loss: 7.1439 - accuracy: 0.53 - ETA: 0s - loss: 7.0658 - accuracy: 0.54 - ETA: 0s - loss: 7.0959 - accuracy: 0.54 - ETA: 0s - loss: 7.1019 - accuracy: 0.53 - ETA: 0s - loss: 7.0869 - accuracy: 0.54 - ETA: 0s - loss: 7.1200 - accuracy: 0.53 - ETA: 0s - loss: 7.0955 - accuracy: 0.54 - ETA: 0s - loss: 7.1192 - accuracy: 0.53 - ETA: 0s - loss: 7.0965 - accuracy: 0.53 - ETA: 0s - loss: 7.1013 - accuracy: 0.53 - 2s 1ms/sample - loss: 7.1231 - accuracy: 0.5382 - val_loss: 6.7192 - val_accuracy: 0.5644\n",
      "Epoch 7/10\n",
      "1845/1845 [==============================] - ETA: 2s - loss: 6.2664 - accuracy: 0.59 - ETA: 2s - loss: 6.2664 - accuracy: 0.59 - ETA: 2s - loss: 6.6279 - accuracy: 0.57 - ETA: 1s - loss: 6.8288 - accuracy: 0.55 - ETA: 1s - loss: 6.8087 - accuracy: 0.55 - ETA: 1s - loss: 6.7002 - accuracy: 0.56 - ETA: 1s - loss: 6.8689 - accuracy: 0.55 - ETA: 1s - loss: 6.7484 - accuracy: 0.56 - ETA: 1s - loss: 6.8517 - accuracy: 0.55 - ETA: 1s - loss: 6.7484 - accuracy: 0.56 - ETA: 1s - loss: 6.6949 - accuracy: 0.56 - ETA: 1s - loss: 6.7992 - accuracy: 0.55 - ETA: 1s - loss: 6.7243 - accuracy: 0.56 - ETA: 1s - loss: 6.7714 - accuracy: 0.56 - ETA: 1s - loss: 6.9161 - accuracy: 0.55 - ETA: 1s - loss: 6.9219 - accuracy: 0.55 - ETA: 1s - loss: 6.8377 - accuracy: 0.55 - ETA: 1s - loss: 6.8980 - accuracy: 0.55 - ETA: 1s - loss: 6.9661 - accuracy: 0.54 - ETA: 0s - loss: 7.0552 - accuracy: 0.54 - ETA: 0s - loss: 7.1312 - accuracy: 0.53 - ETA: 0s - loss: 7.0698 - accuracy: 0.54 - ETA: 0s - loss: 7.0611 - accuracy: 0.54 - ETA: 0s - loss: 7.0909 - accuracy: 0.54 - ETA: 0s - loss: 7.1702 - accuracy: 0.53 - ETA: 0s - loss: 7.1386 - accuracy: 0.53 - ETA: 0s - loss: 7.1071 - accuracy: 0.53 - ETA: 0s - loss: 7.1428 - accuracy: 0.53 - ETA: 0s - loss: 7.1340 - accuracy: 0.53 - ETA: 0s - loss: 7.1466 - accuracy: 0.53 - ETA: 0s - loss: 7.1903 - accuracy: 0.53 - ETA: 0s - loss: 7.1919 - accuracy: 0.53 - ETA: 0s - loss: 7.2119 - accuracy: 0.53 - ETA: 0s - loss: 7.1941 - accuracy: 0.53 - ETA: 0s - loss: 7.2126 - accuracy: 0.53 - ETA: 0s - loss: 7.1788 - accuracy: 0.53 - 3s 1ms/sample - loss: 7.1231 - accuracy: 0.5382 - val_loss: 6.7192 - val_accuracy: 0.5644\n",
      "Epoch 8/10\n",
      "1845/1845 [==============================] - ETA: 2s - loss: 7.2304 - accuracy: 0.53 - ETA: 2s - loss: 8.1945 - accuracy: 0.46 - ETA: 2s - loss: 8.0017 - accuracy: 0.48 - ETA: 2s - loss: 7.2993 - accuracy: 0.52 - ETA: 1s - loss: 7.1233 - accuracy: 0.53 - ETA: 1s - loss: 6.9237 - accuracy: 0.55 - ETA: 1s - loss: 7.2304 - accuracy: 0.53 - ETA: 1s - loss: 7.2649 - accuracy: 0.52 - ETA: 1s - loss: 7.2304 - accuracy: 0.53 - ETA: 1s - loss: 7.2588 - accuracy: 0.52 - ETA: 1s - loss: 7.2051 - accuracy: 0.53 - ETA: 1s - loss: 7.2304 - accuracy: 0.53 - ETA: 1s - loss: 7.2933 - accuracy: 0.52 - ETA: 1s - loss: 7.2706 - accuracy: 0.52 - ETA: 1s - loss: 7.2675 - accuracy: 0.52 - ETA: 1s - loss: 7.2993 - accuracy: 0.52 - ETA: 1s - loss: 7.2947 - accuracy: 0.52 - ETA: 1s - loss: 7.3660 - accuracy: 0.52 - ETA: 0s - loss: 7.2446 - accuracy: 0.53 - ETA: 0s - loss: 7.2974 - accuracy: 0.52 - ETA: 0s - loss: 7.2558 - accuracy: 0.52 - ETA: 0s - loss: 7.2304 - accuracy: 0.53 - ETA: 0s - loss: 7.1501 - accuracy: 0.53 - ETA: 0s - loss: 7.1071 - accuracy: 0.53 - ETA: 0s - loss: 7.1340 - accuracy: 0.53 - ETA: 0s - loss: 7.1689 - accuracy: 0.53 - ETA: 0s - loss: 7.1616 - accuracy: 0.53 - ETA: 0s - loss: 7.1533 - accuracy: 0.53 - ETA: 0s - loss: 7.1285 - accuracy: 0.53 - ETA: 0s - loss: 7.1233 - accuracy: 0.53 - ETA: 0s - loss: 7.1340 - accuracy: 0.53 - ETA: 0s - loss: 7.1013 - accuracy: 0.53 - 3s 1ms/sample - loss: 7.1231 - accuracy: 0.5382 - val_loss: 6.7192 - val_accuracy: 0.5644\n",
      "Epoch 9/10\n",
      "1845/1845 [==============================] - ETA: 2s - loss: 8.6765 - accuracy: 0.43 - ETA: 2s - loss: 7.5518 - accuracy: 0.51 - ETA: 2s - loss: 8.0981 - accuracy: 0.47 - ETA: 1s - loss: 7.9879 - accuracy: 0.48 - ETA: 2s - loss: 7.6522 - accuracy: 0.50 - ETA: 2s - loss: 7.3376 - accuracy: 0.52 - ETA: 1s - loss: 7.2304 - accuracy: 0.53 - ETA: 1s - loss: 7.6383 - accuracy: 0.50 - ETA: 1s - loss: 7.5748 - accuracy: 0.50 - ETA: 1s - loss: 7.6221 - accuracy: 0.50 - ETA: 1s - loss: 7.5991 - accuracy: 0.50 - ETA: 1s - loss: 7.6110 - accuracy: 0.50 - ETA: 1s - loss: 7.6207 - accuracy: 0.50 - ETA: 1s - loss: 7.6077 - accuracy: 0.50 - ETA: 1s - loss: 7.5389 - accuracy: 0.51 - ETA: 1s - loss: 7.4804 - accuracy: 0.51 - ETA: 1s - loss: 7.4133 - accuracy: 0.51 - ETA: 1s - loss: 7.3704 - accuracy: 0.52 - ETA: 0s - loss: 7.3619 - accuracy: 0.52 - ETA: 0s - loss: 7.3682 - accuracy: 0.52 - ETA: 0s - loss: 7.3477 - accuracy: 0.52 - ETA: 0s - loss: 7.3953 - accuracy: 0.52 - ETA: 0s - loss: 7.3417 - accuracy: 0.52 - ETA: 0s - loss: 7.2892 - accuracy: 0.52 - ETA: 0s - loss: 7.3089 - accuracy: 0.52 - ETA: 0s - loss: 7.3376 - accuracy: 0.52 - ETA: 0s - loss: 7.2715 - accuracy: 0.52 - ETA: 0s - loss: 7.2796 - accuracy: 0.52 - ETA: 0s - loss: 7.2872 - accuracy: 0.52 - ETA: 0s - loss: 7.2768 - accuracy: 0.52 - ETA: 0s - loss: 7.2572 - accuracy: 0.52 - ETA: 0s - loss: 7.1788 - accuracy: 0.53 - 3s 1ms/sample - loss: 7.1231 - accuracy: 0.5382 - val_loss: 6.7192 - val_accuracy: 0.5644\n",
      "Epoch 10/10\n",
      "1845/1845 [==============================] - ETA: 2s - loss: 4.8203 - accuracy: 0.68 - ETA: 2s - loss: 6.5074 - accuracy: 0.57 - ETA: 2s - loss: 7.1099 - accuracy: 0.53 - ETA: 2s - loss: 6.9091 - accuracy: 0.55 - ETA: 2s - loss: 6.7484 - accuracy: 0.56 - ETA: 1s - loss: 6.9627 - accuracy: 0.54 - ETA: 1s - loss: 7.1866 - accuracy: 0.53 - ETA: 1s - loss: 6.8597 - accuracy: 0.55 - ETA: 1s - loss: 7.1019 - accuracy: 0.53 - ETA: 1s - loss: 7.0887 - accuracy: 0.54 - ETA: 1s - loss: 6.9767 - accuracy: 0.54 - ETA: 1s - loss: 7.0468 - accuracy: 0.54 - ETA: 1s - loss: 6.8532 - accuracy: 0.55 - ETA: 1s - loss: 6.9798 - accuracy: 0.54 - ETA: 1s - loss: 7.1055 - accuracy: 0.53 - ETA: 1s - loss: 7.0583 - accuracy: 0.54 - ETA: 1s - loss: 7.0376 - accuracy: 0.54 - ETA: 1s - loss: 7.0283 - accuracy: 0.54 - ETA: 0s - loss: 7.1720 - accuracy: 0.53 - ETA: 0s - loss: 7.0789 - accuracy: 0.54 - ETA: 0s - loss: 7.1132 - accuracy: 0.53 - ETA: 0s - loss: 7.1192 - accuracy: 0.53 - ETA: 0s - loss: 7.1246 - accuracy: 0.53 - ETA: 0s - loss: 7.1520 - accuracy: 0.53 - ETA: 0s - loss: 7.1126 - accuracy: 0.53 - ETA: 0s - loss: 7.1587 - accuracy: 0.53 - ETA: 0s - loss: 7.1813 - accuracy: 0.53 - ETA: 0s - loss: 7.1359 - accuracy: 0.53 - ETA: 0s - loss: 7.1577 - accuracy: 0.53 - ETA: 0s - loss: 7.1516 - accuracy: 0.53 - ETA: 0s - loss: 7.1205 - accuracy: 0.53 - 2s 1ms/sample - loss: 7.1231 - accuracy: 0.5382 - val_loss: 6.7192 - val_accuracy: 0.5644\n"
     ]
    }
   ],
   "source": [
    "history = model.fit(X_train, Y_train, batch_size=32, epochs=10, validation_split=0.3)"
   ]
  },
  {
   "cell_type": "code",
   "execution_count": 59,
   "metadata": {},
   "outputs": [
    {
     "data": {
      "text/plain": [
       "<matplotlib.legend.Legend at 0x24a8f63d2c8>"
      ]
     },
     "execution_count": 59,
     "metadata": {},
     "output_type": "execute_result"
    },
    {
     "data": {
      "image/png": "[encoded data removed]",
      "text/plain": [
       "<Figure size 432x288 with 1 Axes>"
      ]
     },
     "metadata": {
      "needs_background": "light"
     },
     "output_type": "display_data"
    }
   ],
   "source": [
    "plt.plot(history.history['accuracy'], label='accuracy')\n",
    "plt.plot(history.history['val_accuracy'], label = 'val_accuracy')\n",
    "plt.xlabel('Epoch')\n",
    "plt.ylabel('Accuracy')\n",
    "plt.legend(loc='lower right')"
   ]
  },
  {
   "cell_type": "code",
   "execution_count": null,
   "metadata": {},
   "outputs": [],
   "source": []
  }
 ],
 "metadata": {
  "kernelspec": {
   "display_name": "Python 3",
   "language": "python",
   "name": "python3"
  },
  "language_info": {
   "codemirror_mode": {
    "name": "ipython",
    "version": 3
   },
   "file_extension": ".py",
   "mimetype": "text/x-python",
   "name": "python",
   "nbconvert_exporter": "python",
   "pygments_lexer": "ipython3",
   "version": "3.7.4"
  }
 },
 "nbformat": 4,
 "nbformat_minor": 4
}
